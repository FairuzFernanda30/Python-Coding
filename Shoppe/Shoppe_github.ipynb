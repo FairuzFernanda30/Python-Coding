{
 "cells": [
  {
   "cell_type": "markdown",
   "metadata": {},
   "source": [
    "Review Aplikasi Shoppe dari google store\n",
    "\n",
    "dataset : https://www.kaggle.com/datasets/bwandowando/shopee-app-reviews-from-google-store"
   ]
  },
  {
   "cell_type": "code",
   "execution_count": 14,
   "metadata": {},
   "outputs": [],
   "source": [
    "import numpy as np\n",
    "import pandas as pd\n",
    "import matplotlib.pyplot as plt\n",
    "import seaborn as sns\n",
    "\n",
    "from textblob import TextBlob"
   ]
  },
  {
   "cell_type": "code",
   "execution_count": 2,
   "metadata": {},
   "outputs": [],
   "source": [
    "dataset = pd.read_csv(r\"C:\\Google Google Google Google Users\\Kichiro\\Downloads\\archive (1)\\SHOPEE_REVIEWS.csv\")"
   ]
  },
  {
   "cell_type": "code",
   "execution_count": 3,
   "metadata": {},
   "outputs": [
    {
     "data": {
      "text/html": [
       "<div>\n",
       "<style scoped>\n",
       "    .dataframe tbody tr th:only-of-type {\n",
       "        vertical-align: middle;\n",
       "    }\n",
       "\n",
       "    .dataframe tbody tr th {\n",
       "        vertical-align: top;\n",
       "    }\n",
       "\n",
       "    .dataframe thead th {\n",
       "        text-align: right;\n",
       "    }\n",
       "</style>\n",
       "<table border=\"1\" class=\"dataframe\">\n",
       "  <thead>\n",
       "    <tr style=\"text-align: right;\">\n",
       "      <th></th>\n",
       "      <th>Unnamed: 0</th>\n",
       "      <th>review_text</th>\n",
       "      <th>review_rating</th>\n",
       "      <th>author_id</th>\n",
       "      <th>author_name</th>\n",
       "      <th>author_app_version</th>\n",
       "      <th>review_datetime_utc</th>\n",
       "      <th>review_likes</th>\n",
       "    </tr>\n",
       "  </thead>\n",
       "  <tbody>\n",
       "    <tr>\n",
       "      <th>0</th>\n",
       "      <td>0</td>\n",
       "      <td>Good</td>\n",
       "      <td>5</td>\n",
       "      <td>104641**********67651</td>\n",
       "      <td>A Google user</td>\n",
       "      <td>NaN</td>\n",
       "      <td>2020-06-04T10:24:20.000Z</td>\n",
       "      <td>0</td>\n",
       "    </tr>\n",
       "    <tr>\n",
       "      <th>1</th>\n",
       "      <td>1</td>\n",
       "      <td>Good</td>\n",
       "      <td>5</td>\n",
       "      <td>112124**********44247</td>\n",
       "      <td>A Google user</td>\n",
       "      <td>2.56.05</td>\n",
       "      <td>2020-06-04T10:24:20.000Z</td>\n",
       "      <td>0</td>\n",
       "    </tr>\n",
       "    <tr>\n",
       "      <th>2</th>\n",
       "      <td>2</td>\n",
       "      <td>It seems this app is useful nowadays specially...</td>\n",
       "      <td>5</td>\n",
       "      <td>116389**********05570</td>\n",
       "      <td>A Google user</td>\n",
       "      <td>NaN</td>\n",
       "      <td>2020-06-04T10:24:47.000Z</td>\n",
       "      <td>0</td>\n",
       "    </tr>\n",
       "    <tr>\n",
       "      <th>3</th>\n",
       "      <td>3</td>\n",
       "      <td>Shopee is very useful specialy this time.</td>\n",
       "      <td>5</td>\n",
       "      <td>109837**********78790</td>\n",
       "      <td>A Google user</td>\n",
       "      <td>2.56.05</td>\n",
       "      <td>2020-06-04T10:25:06.000Z</td>\n",
       "      <td>0</td>\n",
       "    </tr>\n",
       "    <tr>\n",
       "      <th>4</th>\n",
       "      <td>4</td>\n",
       "      <td>Big help during this ECQ.</td>\n",
       "      <td>5</td>\n",
       "      <td>105331**********35532</td>\n",
       "      <td>A Google user</td>\n",
       "      <td>2.49.40</td>\n",
       "      <td>2020-06-04T10:25:54.000Z</td>\n",
       "      <td>0</td>\n",
       "    </tr>\n",
       "  </tbody>\n",
       "</table>\n",
       "</div>"
      ],
      "text/plain": [
       "   Unnamed: 0                                        review_text  \\\n",
       "0           0                                               Good   \n",
       "1           1                                               Good   \n",
       "2           2  It seems this app is useful nowadays specially...   \n",
       "3           3          Shopee is very useful specialy this time.   \n",
       "4           4                          Big help during this ECQ.   \n",
       "\n",
       "   review_rating              author_id    author_name author_app_version  \\\n",
       "0              5  104641**********67651  A Google user                NaN   \n",
       "1              5  112124**********44247  A Google user            2.56.05   \n",
       "2              5  116389**********05570  A Google user                NaN   \n",
       "3              5  109837**********78790  A Google user            2.56.05   \n",
       "4              5  105331**********35532  A Google user            2.49.40   \n",
       "\n",
       "        review_datetime_utc  review_likes  \n",
       "0  2020-06-04T10:24:20.000Z             0  \n",
       "1  2020-06-04T10:24:20.000Z             0  \n",
       "2  2020-06-04T10:24:47.000Z             0  \n",
       "3  2020-06-04T10:25:06.000Z             0  \n",
       "4  2020-06-04T10:25:54.000Z             0  "
      ]
     },
     "execution_count": 3,
     "metadata": {},
     "output_type": "execute_result"
    }
   ],
   "source": [
    "dataset.head()"
   ]
  },
  {
   "cell_type": "code",
   "execution_count": 4,
   "metadata": {},
   "outputs": [
    {
     "name": "stdout",
     "output_type": "stream",
     "text": [
      "<class 'pandas.core.frame.DataFrame'>\n",
      "RangeIndex: 575017 entries, 0 to 575016\n",
      "Data columns (total 8 columns):\n",
      " #   Column               Non-Null Count   Dtype \n",
      "---  ------               --------------   ----- \n",
      " 0   Unnamed: 0           575017 non-null  int64 \n",
      " 1   review_text          574851 non-null  object\n",
      " 2   review_rating        575017 non-null  int64 \n",
      " 3   author_id            575017 non-null  object\n",
      " 4   author_name          575017 non-null  object\n",
      " 5   author_app_version   444326 non-null  object\n",
      " 6   review_datetime_utc  575017 non-null  object\n",
      " 7   review_likes         575017 non-null  int64 \n",
      "dtypes: int64(3), object(5)\n",
      "memory usage: 35.1+ MB\n"
     ]
    }
   ],
   "source": [
    "dataset.info()"
   ]
  },
  {
   "cell_type": "code",
   "execution_count": 5,
   "metadata": {},
   "outputs": [
    {
     "data": {
      "text/plain": [
       "0"
      ]
     },
     "execution_count": 5,
     "metadata": {},
     "output_type": "execute_result"
    }
   ],
   "source": [
    "dataset.duplicated().sum()"
   ]
  },
  {
   "cell_type": "code",
   "execution_count": 7,
   "metadata": {},
   "outputs": [
    {
     "data": {
      "text/plain": [
       "review_rating\n",
       "5    432843\n",
       "1     76030\n",
       "4     37205\n",
       "3     17121\n",
       "2     11818\n",
       "Name: count, dtype: int64"
      ]
     },
     "execution_count": 7,
     "metadata": {},
     "output_type": "execute_result"
    }
   ],
   "source": [
    "dataset['review_rating'].value_counts()"
   ]
  },
  {
   "cell_type": "code",
   "execution_count": 9,
   "metadata": {},
   "outputs": [
    {
     "data": {
      "image/png": "[encoded data removed]",
      "text/plain": [
       "<Figure size 600x600 with 1 Axes>"
      ]
     },
     "metadata": {},
     "output_type": "display_data"
    }
   ],
   "source": [
    "value_counts = dataset['review_rating'].value_counts()\n",
    "labels = value_counts.index\n",
    "sizes = value_counts.values\n",
    "\n",
    "plt.figure(figsize=(6, 6))\n",
    "plt.pie(sizes, labels=labels, autopct='%1.1f%%', startangle=90)\n",
    "plt.axis('equal')\n",
    "plt.title('Review Rating Distribution')\n",
    "plt.show()"
   ]
  },
  {
   "cell_type": "markdown",
   "metadata": {},
   "source": [
    "dari 563.131 user Google memberi rating untuk Shoppe Cabang Singapura\n",
    "\n",
    "dapat diketahui bahwa :\n",
    "\n",
    "User memberi bintang 5 sebanyak 432.843 atau sekitar 75.3 %\n",
    "User memberi bintang 4 sebanyak 37.205 atau sekitar  6.5  %\n",
    "User memberi bintang 3 sebanyak 17.121 atau sekitar  3.0  %\n",
    "User memberi bintang 2 sebanyak 11.818 atau sekitar  2.1  %\n",
    "User memberi bintang 1 sebanyak 76030 atau sekitar  13.2  %"
   ]
  },
  {
   "cell_type": "code",
   "execution_count": 8,
   "metadata": {},
   "outputs": [
    {
     "data": {
      "text/plain": [
       "author_name\n",
       "A Google user    575017\n",
       "Name: count, dtype: int64"
      ]
     },
     "execution_count": 8,
     "metadata": {},
     "output_type": "execute_result"
    }
   ],
   "source": [
    "dataset['author_name'].value_counts()"
   ]
  },
  {
   "cell_type": "code",
   "execution_count": null,
   "metadata": {},
   "outputs": [
    {
     "data": {
      "text/plain": [
       "review_rating\n",
       "5    432843\n",
       "1     76030\n",
       "4     37205\n",
       "3     17121\n",
       "2     11818\n",
       "Name: count, dtype: int64"
      ]
     },
     "metadata": {},
     "output_type": "display_data"
    }
   ],
   "source": [
    "dataset['review_rating'].value_counts()"
   ]
  },
  {
   "cell_type": "code",
   "execution_count": 15,
   "metadata": {},
   "outputs": [
    {
     "data": {
      "text/plain": [
       "review_text\n",
       "Good                                                                                                                             16511\n",
       "Nice                                                                                                                             10840\n",
       "Excellent                                                                                                                         7473\n",
       "Great                                                                                                                             4718\n",
       "Very good                                                                                                                         4458\n",
       "                                                                                                                                 ...  \n",
       "Recent update makes the application crash consistently! Had to uninstall and reinstall to complete one single transaction. 😤         1\n",
       "I use this app Everytime I wanna buy and it's easy to buy in here but sometimes there is a prob. But it's okie.. approve             1\n",
       "Ganda ng product 😍                                                                                                                   1\n",
       "This apps truly good. Always ordered here no mistake yet since i installed this.. all sellers are also good to the customer 👍        1\n",
       "Lots of cheap price and got a chance always a discount on delivery,,we need it cuz we're living in a province                        1\n",
       "Name: count, Length: 363132, dtype: int64"
      ]
     },
     "execution_count": 15,
     "metadata": {},
     "output_type": "execute_result"
    }
   ],
   "source": [
    "dataset['review_text'].value_counts()"
   ]
  },
  {
   "cell_type": "code",
   "execution_count": 21,
   "metadata": {},
   "outputs": [
    {
     "data": {
      "text/plain": [
       "author_app_version\n",
       "2.64.13    10719\n",
       "2.62.30     8196\n",
       "2.66.10     7702\n",
       "2.80.30     7522\n",
       "2.68.11     7456\n",
       "           ...  \n",
       "2.5.22         1\n",
       "2.79.05        1\n",
       "2.54.03        1\n",
       "2.14.12        1\n",
       "2.98.08        1\n",
       "Name: count, Length: 438, dtype: int64"
      ]
     },
     "execution_count": 21,
     "metadata": {},
     "output_type": "execute_result"
    }
   ],
   "source": [
    "dataset['author_app_version'].value_counts()"
   ]
  },
  {
   "cell_type": "code",
   "execution_count": 22,
   "metadata": {},
   "outputs": [
    {
     "data": {
      "text/plain": [
       "review_datetime_utc\n",
       "2021-03-30T06:56:25.000Z    3\n",
       "2021-12-30T03:14:34.000Z    3\n",
       "2020-09-16T00:26:34.000Z    3\n",
       "2022-07-19T01:13:22.000Z    3\n",
       "2021-11-01T14:42:42.000Z    3\n",
       "                           ..\n",
       "2021-03-01T03:00:23.000Z    1\n",
       "2021-03-01T02:59:33.000Z    1\n",
       "2021-03-01T02:55:44.000Z    1\n",
       "2021-03-01T02:55:28.000Z    1\n",
       "2023-11-04T23:33:27.000Z    1\n",
       "Name: count, Length: 572506, dtype: int64"
      ]
     },
     "execution_count": 22,
     "metadata": {},
     "output_type": "execute_result"
    }
   ],
   "source": [
    "dataset['review_datetime_utc'].value_counts()"
   ]
  }
 ],
 "metadata": {
  "kernelspec": {
   "display_name": "Python 3",
   "language": "python",
   "name": "python3"
  },
  "language_info": {
   "codemirror_mode": {
    "name": "ipython",
    "version": 3
   },
   "file_extension": ".py",
   "mimetype": "text/x-python",
   "name": "python",
   "nbconvert_exporter": "python",
   "pygments_lexer": "ipython3",
   "version": "3.11.5"
  }
 },
 "nbformat": 4,
 "nbformat_minor": 2
}
