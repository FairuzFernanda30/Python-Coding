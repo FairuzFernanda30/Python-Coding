{
 "cells": [
  {
   "cell_type": "markdown",
   "metadata": {},
   "source": [
    "Retail Transaction Dataset\n",
    "Dataset : https://www.kaggle.com/datasets/prasad22/retail-transactions-dataset\n",
    "User : Fairuz30"
   ]
  },
  {
   "cell_type": "code",
   "execution_count": 26,
   "metadata": {},
   "outputs": [],
   "source": [
    "import numpy as np\n",
    "import pandas as pd\n",
    "import matplotlib.pyplot as plt\n",
    "import seaborn as sns"
   ]
  },
  {
   "cell_type": "code",
   "execution_count": 27,
   "metadata": {},
   "outputs": [],
   "source": [
    "df = pd.read_csv(\"Masukkan Destinasi File CSV Disini\")"
   ]
  },
  {
   "cell_type": "code",
   "execution_count": 28,
   "metadata": {},
   "outputs": [
    {
     "data": {
      "text/html": [
       "<div>\n",
       "<style scoped>\n",
       "    .dataframe tbody tr th:only-of-type {\n",
       "        vertical-align: middle;\n",
       "    }\n",
       "\n",
       "    .dataframe tbody tr th {\n",
       "        vertical-align: top;\n",
       "    }\n",
       "\n",
       "    .dataframe thead th {\n",
       "        text-align: right;\n",
       "    }\n",
       "</style>\n",
       "<table border=\"1\" class=\"dataframe\">\n",
       "  <thead>\n",
       "    <tr style=\"text-align: right;\">\n",
       "      <th></th>\n",
       "      <th>Transaction_ID</th>\n",
       "      <th>Date</th>\n",
       "      <th>Customer_Name</th>\n",
       "      <th>Product</th>\n",
       "      <th>Total_Items</th>\n",
       "      <th>Total_Cost</th>\n",
       "      <th>Payment_Method</th>\n",
       "      <th>City</th>\n",
       "      <th>Store_Type</th>\n",
       "      <th>Discount_Applied</th>\n",
       "      <th>Customer_Category</th>\n",
       "      <th>Season</th>\n",
       "      <th>Promotion</th>\n",
       "    </tr>\n",
       "  </thead>\n",
       "  <tbody>\n",
       "    <tr>\n",
       "      <th>0</th>\n",
       "      <td>1000000000</td>\n",
       "      <td>2020-12-21 19:42:52</td>\n",
       "      <td>Cheyenne Newman</td>\n",
       "      <td>['Hair Gel']</td>\n",
       "      <td>6</td>\n",
       "      <td>12.77</td>\n",
       "      <td>Debit Card</td>\n",
       "      <td>New York</td>\n",
       "      <td>Convenience Store</td>\n",
       "      <td>True</td>\n",
       "      <td>Student</td>\n",
       "      <td>Winter</td>\n",
       "      <td>NaN</td>\n",
       "    </tr>\n",
       "    <tr>\n",
       "      <th>1</th>\n",
       "      <td>1000000001</td>\n",
       "      <td>2020-07-06 07:45:16</td>\n",
       "      <td>Emily Fitzgerald</td>\n",
       "      <td>['Tuna', 'Bread', 'Tissues', 'Trash Bags']</td>\n",
       "      <td>5</td>\n",
       "      <td>13.88</td>\n",
       "      <td>Debit Card</td>\n",
       "      <td>Houston</td>\n",
       "      <td>Supermarket</td>\n",
       "      <td>False</td>\n",
       "      <td>Professional</td>\n",
       "      <td>Fall</td>\n",
       "      <td>BOGO (Buy One Get One)</td>\n",
       "    </tr>\n",
       "    <tr>\n",
       "      <th>2</th>\n",
       "      <td>1000000002</td>\n",
       "      <td>2021-10-02 06:28:44</td>\n",
       "      <td>Michael Webb</td>\n",
       "      <td>['Jam', 'Soap', 'Ketchup']</td>\n",
       "      <td>7</td>\n",
       "      <td>47.02</td>\n",
       "      <td>Debit Card</td>\n",
       "      <td>Miami</td>\n",
       "      <td>Convenience Store</td>\n",
       "      <td>False</td>\n",
       "      <td>Young Adult</td>\n",
       "      <td>Winter</td>\n",
       "      <td>NaN</td>\n",
       "    </tr>\n",
       "    <tr>\n",
       "      <th>3</th>\n",
       "      <td>1000000003</td>\n",
       "      <td>2022-01-10 05:39:02</td>\n",
       "      <td>Kimberly Lin</td>\n",
       "      <td>['BBQ Sauce']</td>\n",
       "      <td>9</td>\n",
       "      <td>83.86</td>\n",
       "      <td>Mobile Payment</td>\n",
       "      <td>Seattle</td>\n",
       "      <td>Warehouse Club</td>\n",
       "      <td>True</td>\n",
       "      <td>Senior Citizen</td>\n",
       "      <td>Summer</td>\n",
       "      <td>Discount on Selected Items</td>\n",
       "    </tr>\n",
       "    <tr>\n",
       "      <th>4</th>\n",
       "      <td>1000000004</td>\n",
       "      <td>2021-10-13 07:28:47</td>\n",
       "      <td>Cathy Hernandez</td>\n",
       "      <td>['Hand Sanitizer', 'Bread', 'Extension Cords',...</td>\n",
       "      <td>4</td>\n",
       "      <td>30.55</td>\n",
       "      <td>Debit Card</td>\n",
       "      <td>Houston</td>\n",
       "      <td>Warehouse Club</td>\n",
       "      <td>False</td>\n",
       "      <td>Senior Citizen</td>\n",
       "      <td>Spring</td>\n",
       "      <td>NaN</td>\n",
       "    </tr>\n",
       "  </tbody>\n",
       "</table>\n",
       "</div>"
      ],
      "text/plain": [
       "   Transaction_ID                 Date     Customer_Name  \\\n",
       "0      1000000000  2020-12-21 19:42:52   Cheyenne Newman   \n",
       "1      1000000001  2020-07-06 07:45:16  Emily Fitzgerald   \n",
       "2      1000000002  2021-10-02 06:28:44      Michael Webb   \n",
       "3      1000000003  2022-01-10 05:39:02      Kimberly Lin   \n",
       "4      1000000004  2021-10-13 07:28:47   Cathy Hernandez   \n",
       "\n",
       "                                             Product  Total_Items  Total_Cost  \\\n",
       "0                                       ['Hair Gel']            6       12.77   \n",
       "1         ['Tuna', 'Bread', 'Tissues', 'Trash Bags']            5       13.88   \n",
       "2                         ['Jam', 'Soap', 'Ketchup']            7       47.02   \n",
       "3                                      ['BBQ Sauce']            9       83.86   \n",
       "4  ['Hand Sanitizer', 'Bread', 'Extension Cords',...            4       30.55   \n",
       "\n",
       "   Payment_Method      City         Store_Type  Discount_Applied  \\\n",
       "0      Debit Card  New York  Convenience Store              True   \n",
       "1      Debit Card   Houston        Supermarket             False   \n",
       "2      Debit Card     Miami  Convenience Store             False   \n",
       "3  Mobile Payment   Seattle     Warehouse Club              True   \n",
       "4      Debit Card   Houston     Warehouse Club             False   \n",
       "\n",
       "  Customer_Category  Season                   Promotion  \n",
       "0           Student  Winter                         NaN  \n",
       "1      Professional    Fall      BOGO (Buy One Get One)  \n",
       "2       Young Adult  Winter                         NaN  \n",
       "3    Senior Citizen  Summer  Discount on Selected Items  \n",
       "4    Senior Citizen  Spring                         NaN  "
      ]
     },
     "execution_count": 28,
     "metadata": {},
     "output_type": "execute_result"
    }
   ],
   "source": [
    "df.head()"
   ]
  },
  {
   "cell_type": "code",
   "execution_count": 29,
   "metadata": {},
   "outputs": [
    {
     "name": "stdout",
     "output_type": "stream",
     "text": [
      "<class 'pandas.core.frame.DataFrame'>\n",
      "RangeIndex: 30000 entries, 0 to 29999\n",
      "Data columns (total 13 columns):\n",
      " #   Column             Non-Null Count  Dtype  \n",
      "---  ------             --------------  -----  \n",
      " 0   Transaction_ID     30000 non-null  int64  \n",
      " 1   Date               30000 non-null  object \n",
      " 2   Customer_Name      30000 non-null  object \n",
      " 3   Product            30000 non-null  object \n",
      " 4   Total_Items        30000 non-null  int64  \n",
      " 5   Total_Cost         30000 non-null  float64\n",
      " 6   Payment_Method     30000 non-null  object \n",
      " 7   City               30000 non-null  object \n",
      " 8   Store_Type         30000 non-null  object \n",
      " 9   Discount_Applied   30000 non-null  bool   \n",
      " 10  Customer_Category  30000 non-null  object \n",
      " 11  Season             30000 non-null  object \n",
      " 12  Promotion          20009 non-null  object \n",
      "dtypes: bool(1), float64(1), int64(2), object(9)\n",
      "memory usage: 2.8+ MB\n"
     ]
    }
   ],
   "source": [
    "df.info()"
   ]
  },
  {
   "cell_type": "code",
   "execution_count": 30,
   "metadata": {},
   "outputs": [
    {
     "data": {
      "text/plain": [
       "0"
      ]
     },
     "execution_count": 30,
     "metadata": {},
     "output_type": "execute_result"
    }
   ],
   "source": [
    "df.duplicated().sum()"
   ]
  },
  {
   "cell_type": "code",
   "execution_count": 31,
   "metadata": {},
   "outputs": [
    {
     "data": {
      "text/plain": [
       "Product\n",
       "['Toothpaste']                                                                   121\n",
       "['Yogurt']                                                                        94\n",
       "['Milk']                                                                          92\n",
       "['Tuna']                                                                          90\n",
       "['Soda']                                                                          88\n",
       "                                                                                ... \n",
       "['Mustard', 'Light Bulbs', 'Laundry Detergent', 'Bath Towels', 'Trash Bags']       1\n",
       "['Cheese', 'Shrimp', 'Milk', 'Rice', 'Paper Towels']                               1\n",
       "['Hand Sanitizer', 'Diapers']                                                      1\n",
       "['Bath Towels', 'Cleaning Spray', 'Pancake Mix', 'Plant Fertilizer', 'Apple']      1\n",
       "['Hair Gel', 'Mop', 'Peanut Butter']                                               1\n",
       "Name: count, Length: 21967, dtype: int64"
      ]
     },
     "execution_count": 31,
     "metadata": {},
     "output_type": "execute_result"
    }
   ],
   "source": [
    "df['Product'].value_counts()"
   ]
  },
  {
   "cell_type": "markdown",
   "metadata": {},
   "source": [
    "berasarkan hasil eksekusi berikut dapat diketahui bahwa Toothpaste atau pasta gigi merupakan komoditas yang paling banyak terjual"
   ]
  },
  {
   "cell_type": "code",
   "execution_count": 32,
   "metadata": {},
   "outputs": [
    {
     "name": "stdout",
     "output_type": "stream",
     "text": [
      "Customer_Name    Product                                                          \n",
      "Aaron Allen      ['Pickles', 'Deodorant', 'Tea']                                      1\n",
      "Aaron Andrews    ['Water', 'Chips', 'Extension Cords', 'Dustpan', 'Shrimp']           1\n",
      "Aaron Armstrong  ['Pickles', 'Power Strips']                                          1\n",
      "Aaron Arnold     ['Butter', 'Mayonnaise']                                             1\n",
      "Aaron Brennan    ['Spinach', 'Dishware', 'Broom']                                     1\n",
      "                                                                                     ..\n",
      "Zoe Chaney       ['Olive Oil']                                                        1\n",
      "Zoe Dorsey       ['Spinach']                                                          1\n",
      "Zoe Jones        ['Toothpaste', 'Tomatoes']                                           1\n",
      "Zoe Larson       ['Mustard', 'Broom']                                                 1\n",
      "Zoe Mendoza      ['Toothpaste', 'Carrots', 'Yogurt', 'Canned Soup', 'Cereal Bars']    1\n",
      "Name: count, Length: 29997, dtype: int64\n"
     ]
    }
   ],
   "source": [
    "df_counts =df.groupby('Customer_Name')['Product'].value_counts()\n",
    "print(df_counts)"
   ]
  },
  {
   "cell_type": "markdown",
   "metadata": {},
   "source": [
    "Mengetahui ada berapa banyak jenis pelanggan didalam dataset"
   ]
  },
  {
   "cell_type": "code",
   "execution_count": 33,
   "metadata": {},
   "outputs": [
    {
     "data": {
      "text/plain": [
       "Customer_Category\n",
       "Student           3904\n",
       "Homemaker         3798\n",
       "Teenager          3780\n",
       "Middle-Aged       3747\n",
       "Retiree           3745\n",
       "Senior Citizen    3702\n",
       "Young Adult       3686\n",
       "Professional      3638\n",
       "Name: count, dtype: int64"
      ]
     },
     "execution_count": 33,
     "metadata": {},
     "output_type": "execute_result"
    }
   ],
   "source": [
    "df['Customer_Category'].value_counts()"
   ]
  },
  {
   "cell_type": "code",
   "execution_count": 34,
   "metadata": {},
   "outputs": [
    {
     "name": "stdout",
     "output_type": "stream",
     "text": [
      "Customer_Category  Store_Type       \n",
      "Homemaker          Pharmacy             658\n",
      "                   Department Store     646\n",
      "                   Convenience Store    635\n",
      "                   Supermarket          631\n",
      "                   Warehouse Club       624\n",
      "                   Specialty Store      604\n",
      "Middle-Aged        Supermarket          654\n",
      "                   Warehouse Club       640\n",
      "                   Specialty Store      630\n",
      "                   Department Store     615\n",
      "                   Pharmacy             612\n",
      "                   Convenience Store    596\n",
      "Professional       Supermarket          621\n",
      "                   Pharmacy             615\n",
      "                   Department Store     614\n",
      "                   Specialty Store      597\n",
      "                   Convenience Store    597\n",
      "                   Warehouse Club       594\n",
      "Retiree            Warehouse Club       655\n",
      "                   Pharmacy             636\n",
      "                   Specialty Store      634\n",
      "                   Supermarket          614\n",
      "                   Convenience Store    609\n",
      "                   Department Store     597\n",
      "Senior Citizen     Pharmacy             624\n",
      "                   Supermarket          624\n",
      "                   Warehouse Club       623\n",
      "                   Specialty Store      620\n",
      "                   Convenience Store    607\n",
      "                   Department Store     604\n",
      "Student            Specialty Store      695\n",
      "                   Convenience Store    653\n",
      "                   Warehouse Club       652\n",
      "                   Department Store     650\n",
      "                   Supermarket          630\n",
      "                   Pharmacy             624\n",
      "Teenager           Convenience Store    670\n",
      "                   Specialty Store      650\n",
      "                   Warehouse Club       635\n",
      "                   Pharmacy             629\n",
      "                   Department Store     605\n",
      "                   Supermarket          591\n",
      "Young Adult        Department Store     638\n",
      "                   Specialty Store      629\n",
      "                   Convenience Store    619\n",
      "                   Supermarket          613\n",
      "                   Warehouse Club       609\n",
      "                   Pharmacy             578\n",
      "Name: count, dtype: int64\n"
     ]
    }
   ],
   "source": [
    "df_counts = df.groupby('Customer_Category')['Store_Type'].value_counts()\n",
    "print(df_counts)"
   ]
  },
  {
   "cell_type": "markdown",
   "metadata": {},
   "source": [
    "dapat diketahui bahwa :\n",
    "    Homemaker atau biasa disebut orang yang banyak menghabiskan waktu dirumah sering mengunjungi pharmacy atau klinik (ditunjukkan sebanyak 658 orang)\n",
    "\n",
    "    Middle-aged atau orang berumur 40 - 50 tahun sering mengunjungi supermarket (654 0rang)\n",
    "\n",
    "    Professional atau seorang yang ahli sering mengunjungi supermarket (ditunjukkan sebanyak 621 orang)\n",
    "\n",
    "    Retiree atau pensiunan sering mengunjungi warehouse club (ditunjukkan sebanyak 655)\n",
    "\n",
    "    dan seterusnya"
   ]
  },
  {
   "cell_type": "markdown",
   "metadata": {},
   "source": [
    "berdasarkan hal diatas dapat diketahui bahwa setiap golongan orang memiliki tujuan tempat pembelian yang berbeda beda, dan ini bisa dijadikan salah satu faktor oleh pihak tempat penjualan dalam menentukan diskon untuk tipe pembeli tersebut."
   ]
  },
  {
   "cell_type": "markdown",
   "metadata": {},
   "source": [
    "# Diskon"
   ]
  },
  {
   "cell_type": "code",
   "execution_count": 35,
   "metadata": {},
   "outputs": [
    {
     "name": "stdout",
     "output_type": "stream",
     "text": [
      "Customer_Category  Discount_Applied\n",
      "Homemaker          False               1902\n",
      "                   True                1896\n",
      "Middle-Aged        False               1908\n",
      "                   True                1839\n",
      "Professional       False               1826\n",
      "                   True                1812\n",
      "Retiree            False               1889\n",
      "                   True                1856\n",
      "Senior Citizen     False               1860\n",
      "                   True                1842\n",
      "Student            False               1976\n",
      "                   True                1928\n",
      "Teenager           True                1909\n",
      "                   False               1871\n",
      "Young Adult        True                1872\n",
      "                   False               1814\n",
      "Name: count, dtype: int64\n"
     ]
    }
   ],
   "source": [
    "customer1=df.groupby('Customer_Category')['Discount_Applied'].value_counts()\n",
    "print(customer1)"
   ]
  },
  {
   "cell_type": "markdown",
   "metadata": {},
   "source": [
    "berdasarkan eksekusi kode diatas dapat dijelaskan bahwa terdapat kategori pelanggan yang mendapat diskon dan yang tidak."
   ]
  },
  {
   "cell_type": "code",
   "execution_count": 36,
   "metadata": {},
   "outputs": [
    {
     "name": "stdout",
     "output_type": "stream",
     "text": [
      "Discount_Applied  Promotion                 \n",
      "False             BOGO (Buy One Get One)        5044\n",
      "                  Discount on Selected Items    4992\n",
      "True              BOGO (Buy One Get One)        5024\n",
      "                  Discount on Selected Items    4949\n",
      "Name: count, dtype: int64\n"
     ]
    }
   ],
   "source": [
    "discount_type=df.groupby('Discount_Applied')['Promotion'].value_counts()\n",
    "print(discount_type)"
   ]
  },
  {
   "cell_type": "markdown",
   "metadata": {},
   "source": [
    "dapat diketahui pada dataset diatas terdapat dua jenis diskon yaitu BOGO dan Diskon untuk barang tertentu"
   ]
  },
  {
   "cell_type": "code",
   "execution_count": 37,
   "metadata": {},
   "outputs": [
    {
     "name": "stdout",
     "output_type": "stream",
     "text": [
      "Customer_Category  Promotion                 \n",
      "Homemaker          Discount on Selected Items    1294\n",
      "                   BOGO (Buy One Get One)        1250\n",
      "Middle-Aged        BOGO (Buy One Get One)        1298\n",
      "                   Discount on Selected Items    1210\n",
      "Professional       Discount on Selected Items    1208\n",
      "                   BOGO (Buy One Get One)        1197\n",
      "Retiree            BOGO (Buy One Get One)        1272\n",
      "                   Discount on Selected Items    1271\n",
      "Senior Citizen     BOGO (Buy One Get One)        1250\n",
      "                   Discount on Selected Items    1198\n",
      "Student            BOGO (Buy One Get One)        1304\n",
      "                   Discount on Selected Items    1283\n",
      "Teenager           BOGO (Buy One Get One)        1259\n",
      "                   Discount on Selected Items    1249\n",
      "Young Adult        BOGO (Buy One Get One)        1238\n",
      "                   Discount on Selected Items    1228\n",
      "Name: count, dtype: int64\n"
     ]
    }
   ],
   "source": [
    "Customer_discount=df.groupby('Customer_Category')['Promotion'].value_counts()\n",
    "print(Customer_discount)"
   ]
  },
  {
   "cell_type": "markdown",
   "metadata": {},
   "source": [
    "dan hasil eksekusi kode diatas adalah persebaran diskon di antara masing masing tipe pelanggan yang ada di dataset."
   ]
  },
  {
   "cell_type": "markdown",
   "metadata": {},
   "source": [
    "#Jenis Pembayaran"
   ]
  },
  {
   "cell_type": "code",
   "execution_count": 38,
   "metadata": {},
   "outputs": [
    {
     "name": "stdout",
     "output_type": "stream",
     "text": [
      "Customer_Category  Payment_Method\n",
      "Homemaker          Cash              979\n",
      "                   Credit Card       944\n",
      "                   Debit Card        941\n",
      "                   Mobile Payment    934\n",
      "Middle-Aged        Cash              966\n",
      "                   Credit Card       952\n",
      "                   Mobile Payment    917\n",
      "                   Debit Card        912\n",
      "Professional       Debit Card        921\n",
      "                   Mobile Payment    912\n",
      "                   Cash              906\n",
      "                   Credit Card       899\n",
      "Retiree            Credit Card       968\n",
      "                   Debit Card        932\n",
      "                   Mobile Payment    930\n",
      "                   Cash              915\n",
      "Senior Citizen     Debit Card        990\n",
      "                   Mobile Payment    917\n",
      "                   Cash              907\n",
      "                   Credit Card       888\n",
      "Student            Debit Card        991\n",
      "                   Credit Card       984\n",
      "                   Mobile Payment    978\n",
      "                   Cash              951\n",
      "Teenager           Debit Card        971\n",
      "                   Cash              965\n",
      "                   Credit Card       926\n",
      "                   Mobile Payment    918\n",
      "Young Adult        Debit Card        967\n",
      "                   Credit Card       952\n",
      "                   Cash              891\n",
      "                   Mobile Payment    876\n",
      "Name: count, dtype: int64\n"
     ]
    }
   ],
   "source": [
    "Customer_destination=df.groupby('Customer_Category')['Payment_Method'].value_counts()\n",
    "print(Customer_destination)"
   ]
  },
  {
   "cell_type": "markdown",
   "metadata": {},
   "source": [
    "eksekusi kode diatas dapat diketahui bahwa terdapat 4 jenis pembayaran yaitu : \n",
    "\n",
    "1. Debit Card \n",
    "2. Credit Card\n",
    "3. Cash\n",
    "4. Mobile Payment"
   ]
  },
  {
   "cell_type": "markdown",
   "metadata": {},
   "source": [
    "#mengetahui waktu pelanggan paling banyak mendatangi ke toko pada season apa?"
   ]
  },
  {
   "cell_type": "code",
   "execution_count": 47,
   "metadata": {},
   "outputs": [
    {
     "name": "stdout",
     "output_type": "stream",
     "text": [
      "Customer_Category  Season\n",
      "Homemaker          Winter     965\n",
      "                   Summer     963\n",
      "                   Spring     954\n",
      "                   Fall       916\n",
      "Middle-Aged        Summer     966\n",
      "                   Spring     959\n",
      "                   Fall       913\n",
      "                   Winter     909\n",
      "Professional       Spring     935\n",
      "                   Fall       928\n",
      "                   Summer     912\n",
      "                   Winter     863\n",
      "Retiree            Fall       975\n",
      "                   Spring     932\n",
      "                   Winter     931\n",
      "                   Summer     907\n",
      "Senior Citizen     Spring     958\n",
      "                   Winter     933\n",
      "                   Summer     909\n",
      "                   Fall       902\n",
      "Student            Summer    1021\n",
      "                   Fall       984\n",
      "                   Spring     967\n",
      "                   Winter     932\n",
      "Teenager           Summer     960\n",
      "                   Fall       946\n",
      "                   Winter     940\n",
      "                   Spring     934\n",
      "Young Adult        Fall       937\n",
      "                   Spring     926\n",
      "                   Summer     924\n",
      "                   Winter     899\n",
      "Name: count, dtype: int64\n"
     ]
    }
   ],
   "source": [
    "Season_Customer=df.groupby('Customer_Category')['Season'].value_counts()\n",
    "print(Season_Customer)"
   ]
  },
  {
   "cell_type": "markdown",
   "metadata": {},
   "source": [
    "Dapat diketahui bahwa terdapat 4 season yang ada dalam dataset, dan menurut summer merupakan waktu yang paling banyak dipilih oleh beberapa jenis tipe pelanggan untuk membeli barang di tempat penjualan."
   ]
  }
 ],
 "metadata": {
  "kernelspec": {
   "display_name": "Python 3",
   "language": "python",
   "name": "python3"
  },
  "language_info": {
   "codemirror_mode": {
    "name": "ipython",
    "version": 3
   },
   "file_extension": ".py",
   "mimetype": "text/x-python",
   "name": "python",
   "nbconvert_exporter": "python",
   "pygments_lexer": "ipython3",
   "version": "3.11.5"
  }
 },
 "nbformat": 4,
 "nbformat_minor": 2
}
