{
 "cells": [
  {
   "cell_type": "markdown",
   "metadata": {},
   "source": [
    "LaptopSpec in General\n",
    "Dataset = https://www.kaggle.com/code/laxminarayanasahu/laptop-pricepredict/notebook"
   ]
  },
  {
   "cell_type": "markdown",
   "metadata": {},
   "source": [
    "Tujuan Codes :\n",
    "\n",
    "1. mengetahui brand laptop apa saja yang ada di dataset dan terdapat berapa unit per masing masing brand didalamnya\n",
    "2. brand laptop yang memiliki harga termahal dalam INR (Indian Rupee)\n",
    "3. mengetahui kelas processor apa saja yang ada di dataset + brand\n",
    "4. mengetahui jenis & kelas ram apa saja yang ada di dataset + brand \n",
    "5. mengetahui jenis & kelas VGA apa saja yang ada di dataset + brand yang menggunakan VGA tersebut"
   ]
  },
  {
   "cell_type": "markdown",
   "metadata": {},
   "source": [
    "Mengimport Library"
   ]
  },
  {
   "cell_type": "code",
   "execution_count": 29,
   "metadata": {},
   "outputs": [],
   "source": [
    "import numpy as np\n",
    "import pandas as pd\n",
    "import matplotlib.pyplot as plt\n",
    "import seaborn as sns"
   ]
  },
  {
   "cell_type": "markdown",
   "metadata": {},
   "source": [
    "Membaca Dataset"
   ]
  },
  {
   "cell_type": "code",
   "execution_count": 30,
   "metadata": {},
   "outputs": [],
   "source": [
    "dataset = pd.read_csv(\"masukkan Destinasi File Mu Disini\")"
   ]
  },
  {
   "cell_type": "code",
   "execution_count": 31,
   "metadata": {},
   "outputs": [
    {
     "data": {
      "text/html": [
       "<div>\n",
       "<style scoped>\n",
       "    .dataframe tbody tr th:only-of-type {\n",
       "        vertical-align: middle;\n",
       "    }\n",
       "\n",
       "    .dataframe tbody tr th {\n",
       "        vertical-align: top;\n",
       "    }\n",
       "\n",
       "    .dataframe thead th {\n",
       "        text-align: right;\n",
       "    }\n",
       "</style>\n",
       "<table border=\"1\" class=\"dataframe\">\n",
       "  <thead>\n",
       "    <tr style=\"text-align: right;\">\n",
       "      <th></th>\n",
       "      <th>brand</th>\n",
       "      <th>processor_brand</th>\n",
       "      <th>processor_name</th>\n",
       "      <th>processor_gnrtn</th>\n",
       "      <th>ram_gb</th>\n",
       "      <th>ram_type</th>\n",
       "      <th>ssd</th>\n",
       "      <th>hdd</th>\n",
       "      <th>os</th>\n",
       "      <th>os_bit</th>\n",
       "      <th>graphic_card_gb</th>\n",
       "      <th>weight</th>\n",
       "      <th>warranty</th>\n",
       "      <th>Touchscreen</th>\n",
       "      <th>msoffice</th>\n",
       "      <th>Price</th>\n",
       "      <th>rating</th>\n",
       "      <th>Number of Ratings</th>\n",
       "      <th>Number of Reviews</th>\n",
       "    </tr>\n",
       "  </thead>\n",
       "  <tbody>\n",
       "    <tr>\n",
       "      <th>0</th>\n",
       "      <td>ASUS</td>\n",
       "      <td>Intel</td>\n",
       "      <td>Core i3</td>\n",
       "      <td>10th</td>\n",
       "      <td>4 GB</td>\n",
       "      <td>DDR4</td>\n",
       "      <td>0 GB</td>\n",
       "      <td>1024 GB</td>\n",
       "      <td>Windows</td>\n",
       "      <td>64-bit</td>\n",
       "      <td>0 GB</td>\n",
       "      <td>Casual</td>\n",
       "      <td>No warranty</td>\n",
       "      <td>No</td>\n",
       "      <td>No</td>\n",
       "      <td>34649</td>\n",
       "      <td>2 stars</td>\n",
       "      <td>3</td>\n",
       "      <td>0</td>\n",
       "    </tr>\n",
       "    <tr>\n",
       "      <th>1</th>\n",
       "      <td>Lenovo</td>\n",
       "      <td>Intel</td>\n",
       "      <td>Core i3</td>\n",
       "      <td>10th</td>\n",
       "      <td>4 GB</td>\n",
       "      <td>DDR4</td>\n",
       "      <td>0 GB</td>\n",
       "      <td>1024 GB</td>\n",
       "      <td>Windows</td>\n",
       "      <td>64-bit</td>\n",
       "      <td>0 GB</td>\n",
       "      <td>Casual</td>\n",
       "      <td>No warranty</td>\n",
       "      <td>No</td>\n",
       "      <td>No</td>\n",
       "      <td>38999</td>\n",
       "      <td>3 stars</td>\n",
       "      <td>65</td>\n",
       "      <td>5</td>\n",
       "    </tr>\n",
       "    <tr>\n",
       "      <th>2</th>\n",
       "      <td>Lenovo</td>\n",
       "      <td>Intel</td>\n",
       "      <td>Core i3</td>\n",
       "      <td>10th</td>\n",
       "      <td>4 GB</td>\n",
       "      <td>DDR4</td>\n",
       "      <td>0 GB</td>\n",
       "      <td>1024 GB</td>\n",
       "      <td>Windows</td>\n",
       "      <td>64-bit</td>\n",
       "      <td>0 GB</td>\n",
       "      <td>Casual</td>\n",
       "      <td>No warranty</td>\n",
       "      <td>No</td>\n",
       "      <td>No</td>\n",
       "      <td>39999</td>\n",
       "      <td>3 stars</td>\n",
       "      <td>8</td>\n",
       "      <td>1</td>\n",
       "    </tr>\n",
       "    <tr>\n",
       "      <th>3</th>\n",
       "      <td>ASUS</td>\n",
       "      <td>Intel</td>\n",
       "      <td>Core i5</td>\n",
       "      <td>10th</td>\n",
       "      <td>8 GB</td>\n",
       "      <td>DDR4</td>\n",
       "      <td>512 GB</td>\n",
       "      <td>0 GB</td>\n",
       "      <td>Windows</td>\n",
       "      <td>32-bit</td>\n",
       "      <td>2 GB</td>\n",
       "      <td>Casual</td>\n",
       "      <td>No warranty</td>\n",
       "      <td>No</td>\n",
       "      <td>No</td>\n",
       "      <td>69990</td>\n",
       "      <td>3 stars</td>\n",
       "      <td>0</td>\n",
       "      <td>0</td>\n",
       "    </tr>\n",
       "    <tr>\n",
       "      <th>4</th>\n",
       "      <td>ASUS</td>\n",
       "      <td>Intel</td>\n",
       "      <td>Celeron Dual</td>\n",
       "      <td>Not Available</td>\n",
       "      <td>4 GB</td>\n",
       "      <td>DDR4</td>\n",
       "      <td>0 GB</td>\n",
       "      <td>512 GB</td>\n",
       "      <td>Windows</td>\n",
       "      <td>64-bit</td>\n",
       "      <td>0 GB</td>\n",
       "      <td>Casual</td>\n",
       "      <td>No warranty</td>\n",
       "      <td>No</td>\n",
       "      <td>No</td>\n",
       "      <td>26990</td>\n",
       "      <td>3 stars</td>\n",
       "      <td>0</td>\n",
       "      <td>0</td>\n",
       "    </tr>\n",
       "    <tr>\n",
       "      <th>5</th>\n",
       "      <td>ASUS</td>\n",
       "      <td>Intel</td>\n",
       "      <td>Celeron Dual</td>\n",
       "      <td>Not Available</td>\n",
       "      <td>4 GB</td>\n",
       "      <td>DDR4</td>\n",
       "      <td>0 GB</td>\n",
       "      <td>512 GB</td>\n",
       "      <td>Windows</td>\n",
       "      <td>64-bit</td>\n",
       "      <td>0 GB</td>\n",
       "      <td>Casual</td>\n",
       "      <td>No warranty</td>\n",
       "      <td>No</td>\n",
       "      <td>No</td>\n",
       "      <td>22990</td>\n",
       "      <td>3 stars</td>\n",
       "      <td>0</td>\n",
       "      <td>0</td>\n",
       "    </tr>\n",
       "    <tr>\n",
       "      <th>6</th>\n",
       "      <td>ASUS</td>\n",
       "      <td>Intel</td>\n",
       "      <td>Celeron Dual</td>\n",
       "      <td>Not Available</td>\n",
       "      <td>4 GB</td>\n",
       "      <td>DDR4</td>\n",
       "      <td>0 GB</td>\n",
       "      <td>512 GB</td>\n",
       "      <td>Windows</td>\n",
       "      <td>32-bit</td>\n",
       "      <td>0 GB</td>\n",
       "      <td>Casual</td>\n",
       "      <td>No warranty</td>\n",
       "      <td>No</td>\n",
       "      <td>No</td>\n",
       "      <td>21990</td>\n",
       "      <td>3 stars</td>\n",
       "      <td>31</td>\n",
       "      <td>3</td>\n",
       "    </tr>\n",
       "    <tr>\n",
       "      <th>7</th>\n",
       "      <td>ASUS</td>\n",
       "      <td>Intel</td>\n",
       "      <td>Core i5</td>\n",
       "      <td>10th</td>\n",
       "      <td>8 GB</td>\n",
       "      <td>DDR4</td>\n",
       "      <td>0 GB</td>\n",
       "      <td>1024 GB</td>\n",
       "      <td>Windows</td>\n",
       "      <td>32-bit</td>\n",
       "      <td>2 GB</td>\n",
       "      <td>Casual</td>\n",
       "      <td>No warranty</td>\n",
       "      <td>No</td>\n",
       "      <td>No</td>\n",
       "      <td>58799</td>\n",
       "      <td>3 stars</td>\n",
       "      <td>0</td>\n",
       "      <td>0</td>\n",
       "    </tr>\n",
       "    <tr>\n",
       "      <th>8</th>\n",
       "      <td>Lenovo</td>\n",
       "      <td>Intel</td>\n",
       "      <td>Core i5</td>\n",
       "      <td>10th</td>\n",
       "      <td>4 GB</td>\n",
       "      <td>DDR4</td>\n",
       "      <td>0 GB</td>\n",
       "      <td>1024 GB</td>\n",
       "      <td>Windows</td>\n",
       "      <td>32-bit</td>\n",
       "      <td>0 GB</td>\n",
       "      <td>Casual</td>\n",
       "      <td>No warranty</td>\n",
       "      <td>No</td>\n",
       "      <td>No</td>\n",
       "      <td>49999</td>\n",
       "      <td>3 stars</td>\n",
       "      <td>0</td>\n",
       "      <td>0</td>\n",
       "    </tr>\n",
       "    <tr>\n",
       "      <th>9</th>\n",
       "      <td>acer</td>\n",
       "      <td>AMD</td>\n",
       "      <td>Ryzen 5</td>\n",
       "      <td>10th</td>\n",
       "      <td>4 GB</td>\n",
       "      <td>DDR4</td>\n",
       "      <td>0 GB</td>\n",
       "      <td>512 GB</td>\n",
       "      <td>Windows</td>\n",
       "      <td>32-bit</td>\n",
       "      <td>4 GB</td>\n",
       "      <td>Casual</td>\n",
       "      <td>No warranty</td>\n",
       "      <td>No</td>\n",
       "      <td>No</td>\n",
       "      <td>59990</td>\n",
       "      <td>4 stars</td>\n",
       "      <td>1946</td>\n",
       "      <td>240</td>\n",
       "    </tr>\n",
       "  </tbody>\n",
       "</table>\n",
       "</div>"
      ],
      "text/plain": [
       "    brand processor_brand processor_name processor_gnrtn ram_gb ram_type  \\\n",
       "0    ASUS           Intel        Core i3            10th   4 GB     DDR4   \n",
       "1  Lenovo           Intel        Core i3            10th   4 GB     DDR4   \n",
       "2  Lenovo           Intel        Core i3            10th   4 GB     DDR4   \n",
       "3    ASUS           Intel        Core i5            10th   8 GB     DDR4   \n",
       "4    ASUS           Intel   Celeron Dual   Not Available   4 GB     DDR4   \n",
       "5    ASUS           Intel   Celeron Dual   Not Available   4 GB     DDR4   \n",
       "6    ASUS           Intel   Celeron Dual   Not Available   4 GB     DDR4   \n",
       "7    ASUS           Intel        Core i5            10th   8 GB     DDR4   \n",
       "8  Lenovo           Intel        Core i5            10th   4 GB     DDR4   \n",
       "9    acer             AMD        Ryzen 5            10th   4 GB     DDR4   \n",
       "\n",
       "      ssd      hdd       os  os_bit graphic_card_gb  weight     warranty  \\\n",
       "0    0 GB  1024 GB  Windows  64-bit            0 GB  Casual  No warranty   \n",
       "1    0 GB  1024 GB  Windows  64-bit            0 GB  Casual  No warranty   \n",
       "2    0 GB  1024 GB  Windows  64-bit            0 GB  Casual  No warranty   \n",
       "3  512 GB     0 GB  Windows  32-bit            2 GB  Casual  No warranty   \n",
       "4    0 GB   512 GB  Windows  64-bit            0 GB  Casual  No warranty   \n",
       "5    0 GB   512 GB  Windows  64-bit            0 GB  Casual  No warranty   \n",
       "6    0 GB   512 GB  Windows  32-bit            0 GB  Casual  No warranty   \n",
       "7    0 GB  1024 GB  Windows  32-bit            2 GB  Casual  No warranty   \n",
       "8    0 GB  1024 GB  Windows  32-bit            0 GB  Casual  No warranty   \n",
       "9    0 GB   512 GB  Windows  32-bit            4 GB  Casual  No warranty   \n",
       "\n",
       "  Touchscreen msoffice  Price   rating  Number of Ratings  Number of Reviews  \n",
       "0          No       No  34649  2 stars                  3                  0  \n",
       "1          No       No  38999  3 stars                 65                  5  \n",
       "2          No       No  39999  3 stars                  8                  1  \n",
       "3          No       No  69990  3 stars                  0                  0  \n",
       "4          No       No  26990  3 stars                  0                  0  \n",
       "5          No       No  22990  3 stars                  0                  0  \n",
       "6          No       No  21990  3 stars                 31                  3  \n",
       "7          No       No  58799  3 stars                  0                  0  \n",
       "8          No       No  49999  3 stars                  0                  0  \n",
       "9          No       No  59990  4 stars               1946                240  "
      ]
     },
     "execution_count": 31,
     "metadata": {},
     "output_type": "execute_result"
    }
   ],
   "source": [
    "dataset.head(10)"
   ]
  },
  {
   "cell_type": "code",
   "execution_count": 32,
   "metadata": {},
   "outputs": [
    {
     "data": {
      "text/html": [
       "<div>\n",
       "<style scoped>\n",
       "    .dataframe tbody tr th:only-of-type {\n",
       "        vertical-align: middle;\n",
       "    }\n",
       "\n",
       "    .dataframe tbody tr th {\n",
       "        vertical-align: top;\n",
       "    }\n",
       "\n",
       "    .dataframe thead th {\n",
       "        text-align: right;\n",
       "    }\n",
       "</style>\n",
       "<table border=\"1\" class=\"dataframe\">\n",
       "  <thead>\n",
       "    <tr style=\"text-align: right;\">\n",
       "      <th></th>\n",
       "      <th>Price</th>\n",
       "      <th>Number of Ratings</th>\n",
       "      <th>Number of Reviews</th>\n",
       "    </tr>\n",
       "  </thead>\n",
       "  <tbody>\n",
       "    <tr>\n",
       "      <th>count</th>\n",
       "      <td>823.000000</td>\n",
       "      <td>823.000000</td>\n",
       "      <td>823.000000</td>\n",
       "    </tr>\n",
       "    <tr>\n",
       "      <th>mean</th>\n",
       "      <td>76745.177400</td>\n",
       "      <td>315.301337</td>\n",
       "      <td>37.609964</td>\n",
       "    </tr>\n",
       "    <tr>\n",
       "      <th>std</th>\n",
       "      <td>45101.790525</td>\n",
       "      <td>1047.382654</td>\n",
       "      <td>121.728017</td>\n",
       "    </tr>\n",
       "    <tr>\n",
       "      <th>min</th>\n",
       "      <td>16990.000000</td>\n",
       "      <td>0.000000</td>\n",
       "      <td>0.000000</td>\n",
       "    </tr>\n",
       "    <tr>\n",
       "      <th>25%</th>\n",
       "      <td>46095.000000</td>\n",
       "      <td>0.000000</td>\n",
       "      <td>0.000000</td>\n",
       "    </tr>\n",
       "    <tr>\n",
       "      <th>50%</th>\n",
       "      <td>64990.000000</td>\n",
       "      <td>17.000000</td>\n",
       "      <td>2.000000</td>\n",
       "    </tr>\n",
       "    <tr>\n",
       "      <th>75%</th>\n",
       "      <td>89636.000000</td>\n",
       "      <td>139.500000</td>\n",
       "      <td>18.000000</td>\n",
       "    </tr>\n",
       "    <tr>\n",
       "      <th>max</th>\n",
       "      <td>441990.000000</td>\n",
       "      <td>15279.000000</td>\n",
       "      <td>1947.000000</td>\n",
       "    </tr>\n",
       "  </tbody>\n",
       "</table>\n",
       "</div>"
      ],
      "text/plain": [
       "               Price  Number of Ratings  Number of Reviews\n",
       "count     823.000000         823.000000         823.000000\n",
       "mean    76745.177400         315.301337          37.609964\n",
       "std     45101.790525        1047.382654         121.728017\n",
       "min     16990.000000           0.000000           0.000000\n",
       "25%     46095.000000           0.000000           0.000000\n",
       "50%     64990.000000          17.000000           2.000000\n",
       "75%     89636.000000         139.500000          18.000000\n",
       "max    441990.000000       15279.000000        1947.000000"
      ]
     },
     "execution_count": 32,
     "metadata": {},
     "output_type": "execute_result"
    }
   ],
   "source": [
    "dataset.describe()"
   ]
  },
  {
   "cell_type": "code",
   "execution_count": 33,
   "metadata": {},
   "outputs": [
    {
     "data": {
      "text/plain": [
       "['brand',\n",
       " 'processor_brand',\n",
       " 'processor_name',\n",
       " 'processor_gnrtn',\n",
       " 'ram_gb',\n",
       " 'ram_type',\n",
       " 'ssd',\n",
       " 'hdd',\n",
       " 'os',\n",
       " 'os_bit',\n",
       " 'graphic_card_gb',\n",
       " 'weight',\n",
       " 'warranty',\n",
       " 'Touchscreen',\n",
       " 'msoffice',\n",
       " 'Price',\n",
       " 'rating',\n",
       " 'Number of Ratings',\n",
       " 'Number of Reviews']"
      ]
     },
     "execution_count": 33,
     "metadata": {},
     "output_type": "execute_result"
    }
   ],
   "source": [
    "list(dataset.columns)"
   ]
  },
  {
   "cell_type": "code",
   "execution_count": 34,
   "metadata": {},
   "outputs": [
    {
     "name": "stdout",
     "output_type": "stream",
     "text": [
      "<class 'pandas.core.frame.DataFrame'>\n",
      "RangeIndex: 823 entries, 0 to 822\n",
      "Data columns (total 19 columns):\n",
      " #   Column             Non-Null Count  Dtype \n",
      "---  ------             --------------  ----- \n",
      " 0   brand              823 non-null    object\n",
      " 1   processor_brand    823 non-null    object\n",
      " 2   processor_name     823 non-null    object\n",
      " 3   processor_gnrtn    823 non-null    object\n",
      " 4   ram_gb             823 non-null    object\n",
      " 5   ram_type           823 non-null    object\n",
      " 6   ssd                823 non-null    object\n",
      " 7   hdd                823 non-null    object\n",
      " 8   os                 823 non-null    object\n",
      " 9   os_bit             823 non-null    object\n",
      " 10  graphic_card_gb    823 non-null    object\n",
      " 11  weight             823 non-null    object\n",
      " 12  warranty           823 non-null    object\n",
      " 13  Touchscreen        823 non-null    object\n",
      " 14  msoffice           823 non-null    object\n",
      " 15  Price              823 non-null    int64 \n",
      " 16  rating             823 non-null    object\n",
      " 17  Number of Ratings  823 non-null    int64 \n",
      " 18  Number of Reviews  823 non-null    int64 \n",
      "dtypes: int64(3), object(16)\n",
      "memory usage: 122.3+ KB\n"
     ]
    }
   ],
   "source": [
    "dataset.info()"
   ]
  },
  {
   "cell_type": "markdown",
   "metadata": {},
   "source": [
    "Mengetahui Apakah di dataset terdapat duplikat"
   ]
  },
  {
   "cell_type": "code",
   "execution_count": 35,
   "metadata": {},
   "outputs": [
    {
     "data": {
      "text/plain": [
       "21"
      ]
     },
     "execution_count": 35,
     "metadata": {},
     "output_type": "execute_result"
    }
   ],
   "source": [
    "dataset.duplicated().sum()"
   ]
  },
  {
   "cell_type": "code",
   "execution_count": 36,
   "metadata": {},
   "outputs": [],
   "source": [
    "dataset = dataset.drop_duplicates()"
   ]
  },
  {
   "cell_type": "code",
   "execution_count": 37,
   "metadata": {},
   "outputs": [
    {
     "data": {
      "text/plain": [
       "0"
      ]
     },
     "execution_count": 37,
     "metadata": {},
     "output_type": "execute_result"
    }
   ],
   "source": [
    "dataset.duplicated().sum()"
   ]
  },
  {
   "cell_type": "markdown",
   "metadata": {},
   "source": [
    "mengetahui dimensi dari dataset"
   ]
  },
  {
   "cell_type": "code",
   "execution_count": 38,
   "metadata": {},
   "outputs": [
    {
     "data": {
      "text/plain": [
       "(802, 19)"
      ]
     },
     "execution_count": 38,
     "metadata": {},
     "output_type": "execute_result"
    }
   ],
   "source": [
    "dataset.shape"
   ]
  },
  {
   "cell_type": "markdown",
   "metadata": {},
   "source": [
    "mengetahui brand laptop + jumlah unit apa saja yang ada di dataset"
   ]
  },
  {
   "cell_type": "code",
   "execution_count": 39,
   "metadata": {},
   "outputs": [
    {
     "data": {
      "text/plain": [
       "brand\n",
       "ASUS      243\n",
       "DELL      149\n",
       "Lenovo    144\n",
       "HP        136\n",
       "acer       51\n",
       "MSI        50\n",
       "APPLE      23\n",
       "Avita       6\n",
       "Name: count, dtype: int64"
      ]
     },
     "execution_count": 39,
     "metadata": {},
     "output_type": "execute_result"
    }
   ],
   "source": [
    "dataset['brand'].value_counts()"
   ]
  },
  {
   "cell_type": "markdown",
   "metadata": {},
   "source": [
    "jika dilihat dari Jumlah unit nya, asus memiliki 243 unit, dell memiliki 149 unit, dan lenovo memiliki 144 unit (untuk 3 besarnya), diikuti oleh brand brand lainnya"
   ]
  },
  {
   "cell_type": "markdown",
   "metadata": {},
   "source": [
    "# mengetahui rating dari masing masing brand laptop"
   ]
  },
  {
   "cell_type": "code",
   "execution_count": 40,
   "metadata": {},
   "outputs": [
    {
     "data": {
      "text/plain": [
       "rating\n",
       "4 stars    437\n",
       "3 stars    338\n",
       "5 stars     16\n",
       "2 stars      9\n",
       "1 star       2\n",
       "Name: count, dtype: int64"
      ]
     },
     "execution_count": 40,
     "metadata": {},
     "output_type": "execute_result"
    }
   ],
   "source": [
    "dataset['rating'].value_counts()"
   ]
  },
  {
   "cell_type": "code",
   "execution_count": 41,
   "metadata": {},
   "outputs": [
    {
     "name": "stdout",
     "output_type": "stream",
     "text": [
      "brand   rating \n",
      "APPLE   4 stars     22\n",
      "        5 stars      1\n",
      "ASUS    4 stars    117\n",
      "        3 stars    115\n",
      "        5 stars      8\n",
      "        2 stars      3\n",
      "Avita   3 stars      6\n",
      "DELL    4 stars     75\n",
      "        3 stars     68\n",
      "        5 stars      2\n",
      "        2 stars      2\n",
      "        1 star       2\n",
      "HP      4 stars     88\n",
      "        3 stars     44\n",
      "        5 stars      3\n",
      "        2 stars      1\n",
      "Lenovo  4 stars     72\n",
      "        3 stars     67\n",
      "        2 stars      3\n",
      "        5 stars      2\n",
      "MSI     4 stars     34\n",
      "        3 stars     16\n",
      "acer    4 stars     29\n",
      "        3 stars     22\n",
      "Name: count, dtype: int64\n"
     ]
    }
   ],
   "source": [
    "rating_counts = dataset.groupby('brand')['rating'].value_counts()\n",
    "print(rating_counts)"
   ]
  },
  {
   "cell_type": "markdown",
   "metadata": {},
   "source": [
    "didapatkan bahwa asus merupakan brand terbaik dalam dataset ini dengan memiliki rating 4 star terbanyak yaitu 117 unit,3 star nya sebanyak 115 unit, 5 star nya sebanyak 8 unit dan 2 star nya hanya 3 unit. dengan mengikuti pada brand brand lainnya"
   ]
  },
  {
   "cell_type": "markdown",
   "metadata": {},
   "source": [
    "# mengetahui laptop dengan harga termahal"
   ]
  },
  {
   "cell_type": "code",
   "execution_count": 42,
   "metadata": {},
   "outputs": [
    {
     "data": {
      "text/plain": [
       "<Axes: xlabel='brand', ylabel='Price'>"
      ]
     },
     "execution_count": 42,
     "metadata": {},
     "output_type": "execute_result"
    },
    {
     "data": {
      "image/png": "[encoded data removed]",
      "text/plain": [
       "<Figure size 640x480 with 1 Axes>"
      ]
     },
     "metadata": {},
     "output_type": "display_data"
    }
   ],
   "source": [
    "sns.barplot(data=dataset, x=dataset['brand'], y=dataset[\"Price\"], orient='v')"
   ]
  },
  {
   "cell_type": "markdown",
   "metadata": {},
   "source": [
    "dapat diketahui bahwa dari grafik ini bisa dilihat apple mempunyai harga laptop yang paling mahal"
   ]
  },
  {
   "cell_type": "code",
   "execution_count": 43,
   "metadata": {},
   "outputs": [
    {
     "name": "stdout",
     "output_type": "stream",
     "text": [
      "brand  Price \n",
      "APPLE  179990    2\n",
      "       225990    2\n",
      "       149990    2\n",
      "       104990    2\n",
      "       85990     1\n",
      "                ..\n",
      "acer   56491     1\n",
      "       55999     1\n",
      "       55490     1\n",
      "       53990     1\n",
      "       169990    1\n",
      "Name: count, Length: 604, dtype: int64\n"
     ]
    }
   ],
   "source": [
    "price_counts = dataset.groupby('brand')['Price'].value_counts()\n",
    "print(price_counts)"
   ]
  },
  {
   "cell_type": "markdown",
   "metadata": {},
   "source": [
    "dan dari dataframe diatas apple juga memilki price paling mahal yaitu sekitar 179990 INR atau sekitar 27 juta"
   ]
  },
  {
   "cell_type": "code",
   "execution_count": 44,
   "metadata": {},
   "outputs": [
    {
     "name": "stdout",
     "output_type": "stream",
     "text": [
      "Indian Rupee: 179990\n",
      "Indonesian Rupiah: 2699850000.0\n"
     ]
    }
   ],
   "source": [
    "inr_amount = 179990  # Indian Rupee amount\n",
    "exchange_rate = 15000 / 1  # 15,000 INR to 1 IDR exchange rate\n",
    "\n",
    "idr_amount = inr_amount * exchange_rate\n",
    "\n",
    "print(\"Indian Rupee:\", inr_amount)\n",
    "print(\"Indonesian Rupiah:\", idr_amount)"
   ]
  },
  {
   "cell_type": "markdown",
   "metadata": {},
   "source": [
    "# jumlah unit processor yang ada dalam dataset"
   ]
  },
  {
   "cell_type": "code",
   "execution_count": 45,
   "metadata": {},
   "outputs": [
    {
     "data": {
      "text/plain": [
       "processor_name\n",
       "Core i5         284\n",
       "Core i3         161\n",
       "Core i7         104\n",
       "Ryzen 5          82\n",
       "Ryzen 7          56\n",
       "Ryzen 3          26\n",
       "Ryzen 9          26\n",
       "Celeron Dual     23\n",
       "M1               19\n",
       "Pentium Quad     13\n",
       "Core i9           8\n",
       "Name: count, dtype: int64"
      ]
     },
     "execution_count": 45,
     "metadata": {},
     "output_type": "execute_result"
    }
   ],
   "source": [
    "dataset['processor_name'].value_counts()"
   ]
  },
  {
   "cell_type": "markdown",
   "metadata": {},
   "source": [
    "dari dataframe diatas dapat diketahui bahwa core I5 memiliki jumlah unit terbanyak yaitu sebanyak 284 yang tersebar di beberapa brand laptop, diikuti oleh I3 sebanyak 161 unit, core i7 sebanyak 104 unit dan seterusnya"
   ]
  },
  {
   "cell_type": "markdown",
   "metadata": {},
   "source": [
    "#mengetahui jumlah brand laptop yang menggunakan processor (Intel,AMD dan M1)"
   ]
  },
  {
   "cell_type": "code",
   "execution_count": 46,
   "metadata": {},
   "outputs": [
    {
     "name": "stdout",
     "output_type": "stream",
     "text": [
      "Number of laptop brands using Intel processor: 594\n",
      "Number of laptop brands using AMD processor: 189\n",
      "Number of laptop brands using M1 processor: 19\n"
     ]
    }
   ],
   "source": [
    "intel_count = dataset['processor_brand'].value_counts()['Intel']\n",
    "amd_count = dataset['processor_brand'].value_counts()['AMD']\n",
    "m1_count = dataset['processor_brand'].value_counts()['M1']\n",
    "\n",
    "print(\"Number of laptop brands using Intel processor:\", intel_count)\n",
    "print(\"Number of laptop brands using AMD processor:\", amd_count)\n",
    "print(\"Number of laptop brands using M1 processor:\", m1_count)"
   ]
  },
  {
   "cell_type": "markdown",
   "metadata": {},
   "source": [
    "dari eksekusi kode diatas dapat diketahui bahwa Intel memiliki unit processor yang dipasang pada laptop terbanyak yaitu sebanyak 594 unit diikuti oleh AMD dan M1."
   ]
  },
  {
   "cell_type": "code",
   "execution_count": 47,
   "metadata": {},
   "outputs": [
    {
     "name": "stdout",
     "output_type": "stream",
     "text": [
      "brand   processor_name\n",
      "APPLE   M1                19\n",
      "        Core i5            4\n",
      "ASUS    Core i5           73\n",
      "        Core i3           47\n",
      "        Core i7           32\n",
      "        Ryzen 7           24\n",
      "        Ryzen 9           24\n",
      "        Ryzen 5           14\n",
      "        Celeron Dual      12\n",
      "        Pentium Quad       9\n",
      "        Core i9            4\n",
      "        Ryzen 3            4\n",
      "Avita   Core i5            3\n",
      "        Core i7            2\n",
      "        Celeron Dual       1\n",
      "DELL    Core i5           61\n",
      "        Core i3           48\n",
      "        Ryzen 5           16\n",
      "        Ryzen 3           12\n",
      "        Core i7            7\n",
      "        Ryzen 7            3\n",
      "        Pentium Quad       2\n",
      "HP      Core i5           38\n",
      "        Core i3           30\n",
      "        Ryzen 5           26\n",
      "        Core i7           20\n",
      "        Ryzen 7           10\n",
      "        Ryzen 3            7\n",
      "        Celeron Dual       3\n",
      "        Pentium Quad       1\n",
      "        Ryzen 9            1\n",
      "Lenovo  Core i5           60\n",
      "        Core i3           30\n",
      "        Core i7           20\n",
      "        Ryzen 7           13\n",
      "        Ryzen 5           13\n",
      "        Celeron Dual       6\n",
      "        Ryzen 3            1\n",
      "        Core i9            1\n",
      "MSI     Core i5           21\n",
      "        Core i7           18\n",
      "        Ryzen 5            4\n",
      "        Core i3            3\n",
      "        Ryzen 7            2\n",
      "        Ryzen 9            1\n",
      "        Core i9            1\n",
      "acer    Core i5           24\n",
      "        Ryzen 5            9\n",
      "        Core i7            5\n",
      "        Ryzen 7            4\n",
      "        Core i3            3\n",
      "        Ryzen 3            2\n",
      "        Core i9            2\n",
      "        Celeron Dual       1\n",
      "        Pentium Quad       1\n",
      "Name: count, dtype: int64\n"
     ]
    }
   ],
   "source": [
    "processor_counts = dataset.groupby('brand')['processor_name'].value_counts()\n",
    "\n",
    "print(processor_counts)"
   ]
  },
  {
   "cell_type": "markdown",
   "metadata": {},
   "source": [
    "dari dataframe diatas juga dapat ilihat jumlah unit processor yang terpasang dipegang oleh AUS, kemudian Dell dan yang ketiga adalah HP"
   ]
  },
  {
   "cell_type": "markdown",
   "metadata": {},
   "source": [
    "# mengetahui jumlah RAM yang tersebar di brand laptop"
   ]
  },
  {
   "cell_type": "code",
   "execution_count": 48,
   "metadata": {},
   "outputs": [
    {
     "data": {
      "text/plain": [
       "ram_gb\n",
       "8 GB     404\n",
       "4 GB     223\n",
       "16 GB    173\n",
       "32 GB      2\n",
       "Name: count, dtype: int64"
      ]
     },
     "execution_count": 48,
     "metadata": {},
     "output_type": "execute_result"
    }
   ],
   "source": [
    "dataset['ram_gb'].value_counts()"
   ]
  },
  {
   "cell_type": "markdown",
   "metadata": {},
   "source": [
    "dari hasil eksekusi kode diatas, dapat diketahui bahwa ram dengan kapasitas 8 Gb menjadi pilihan brand laptop untuk dipasang (terlepas itu dual channel atau single channel), kemudian diikuti oleh ram berkapasitas 4 Gb, 16Gb dan yang terakhir 32Gb"
   ]
  },
  {
   "cell_type": "code",
   "execution_count": 49,
   "metadata": {},
   "outputs": [
    {
     "name": "stdout",
     "output_type": "stream",
     "text": [
      "brand   ram_gb\n",
      "APPLE   16 GB     11\n",
      "        8 GB      10\n",
      "        32 GB      1\n",
      "        4 GB       1\n",
      "ASUS    8 GB      98\n",
      "        4 GB      87\n",
      "        16 GB     58\n",
      "Avita   8 GB       4\n",
      "        4 GB       1\n",
      "        16 GB      1\n",
      "DELL    8 GB      96\n",
      "        4 GB      38\n",
      "        16 GB     15\n",
      "HP      8 GB      63\n",
      "        4 GB      38\n",
      "        16 GB     35\n",
      "Lenovo  8 GB      78\n",
      "        4 GB      40\n",
      "        16 GB     26\n",
      "MSI     8 GB      27\n",
      "        16 GB     18\n",
      "        4 GB       5\n",
      "acer    8 GB      28\n",
      "        4 GB      13\n",
      "        16 GB      9\n",
      "        32 GB      1\n",
      "Name: count, dtype: int64\n"
     ]
    }
   ],
   "source": [
    "ram_gb_counts = dataset.groupby('brand')['ram_gb'].value_counts()\n",
    "\n",
    "print(ram_gb_counts)"
   ]
  },
  {
   "cell_type": "markdown",
   "metadata": {},
   "source": [
    "# mengetahui jenis Tipe Ram yang digunakan"
   ]
  },
  {
   "cell_type": "code",
   "execution_count": 50,
   "metadata": {},
   "outputs": [
    {
     "data": {
      "text/plain": [
       "ram_type\n",
       "DDR4       690\n",
       "LPDDR4X     56\n",
       "LPDDR4      27\n",
       "LPDDR3      14\n",
       "DDR5         8\n",
       "DDR3         7\n",
       "Name: count, dtype: int64"
      ]
     },
     "execution_count": 50,
     "metadata": {},
     "output_type": "execute_result"
    }
   ],
   "source": [
    "dataset['ram_type'].value_counts()"
   ]
  },
  {
   "cell_type": "markdown",
   "metadata": {},
   "source": [
    "dapat diketahui bahwa kebanyakan dari brand laptop menggunakan RAM DDR4 sebagai pilihan untuk laptop yang dibuatnya dengan jumlah total sebesar (690 Unit)"
   ]
  },
  {
   "cell_type": "code",
   "execution_count": 51,
   "metadata": {},
   "outputs": [
    {
     "name": "stdout",
     "output_type": "stream",
     "text": [
      "ram_type  brand \n",
      "DDR3      acer        3\n",
      "          ASUS        1\n",
      "          Lenovo      1\n",
      "          DELL        1\n",
      "          APPLE       1\n",
      "DDR4      ASUS      183\n",
      "          DELL      142\n",
      "          Lenovo    132\n",
      "          HP        127\n",
      "          acer       43\n",
      "          MSI        38\n",
      "          APPLE      19\n",
      "          Avita       6\n",
      "DDR5      ASUS        5\n",
      "          MSI         2\n",
      "          acer        1\n",
      "LPDDR3    ASUS       12\n",
      "          Lenovo      1\n",
      "          HP          1\n",
      "LPDDR4    ASUS       10\n",
      "          MSI         7\n",
      "          Lenovo      4\n",
      "          acer        2\n",
      "          HP          2\n",
      "          DELL        2\n",
      "LPDDR4X   ASUS       32\n",
      "          Lenovo      6\n",
      "          HP          6\n",
      "          DELL        4\n",
      "          MSI         3\n",
      "          APPLE       3\n",
      "          acer        2\n",
      "Name: count, dtype: int64\n"
     ]
    }
   ],
   "source": [
    "ram_type_counts = dataset.groupby('ram_type')['brand'].value_counts()\n",
    "\n",
    "print(ram_type_counts)"
   ]
  },
  {
   "cell_type": "code",
   "execution_count": 52,
   "metadata": {},
   "outputs": [
    {
     "data": {
      "text/plain": [
       "<Axes: xlabel='brand', ylabel='ram_gb'>"
      ]
     },
     "execution_count": 52,
     "metadata": {},
     "output_type": "execute_result"
    },
    {
     "data": {
      "image/png": "[encoded data removed]",
      "text/plain": [
       "<Figure size 640x480 with 1 Axes>"
      ]
     },
     "metadata": {},
     "output_type": "display_data"
    }
   ],
   "source": [
    "sns.barplot(data=dataset, x=dataset['brand'], y=dataset[\"ram_gb\"], orient='v')"
   ]
  },
  {
   "cell_type": "markdown",
   "metadata": {},
   "source": [
    "#mengetahui brand laptop yang menggunakan VGA Diksrit (terpisah)"
   ]
  },
  {
   "cell_type": "code",
   "execution_count": 56,
   "metadata": {},
   "outputs": [
    {
     "data": {
      "text/plain": [
       "graphic_card_gb\n",
       "0 GB    557\n",
       "4 GB    127\n",
       "2 GB     67\n",
       "6 GB     37\n",
       "8 GB     14\n",
       "Name: count, dtype: int64"
      ]
     },
     "execution_count": 56,
     "metadata": {},
     "output_type": "execute_result"
    }
   ],
   "source": [
    "dataset['graphic_card_gb'].value_counts()"
   ]
  },
  {
   "cell_type": "markdown",
   "metadata": {},
   "source": [
    "dari hasil eksekusi kode diatas dapat diketahui bahwa banyak brand laptop yang tidak memasukkan VGA diskrit ke laptopnya atau (mungkin) hanya menggunakan IGPU (Integrated GPU) yang terpasang bersama dengan processor"
   ]
  },
  {
   "cell_type": "code",
   "execution_count": 54,
   "metadata": {},
   "outputs": [
    {
     "name": "stdout",
     "output_type": "stream",
     "text": [
      "graphic_card_gb  brand \n",
      "0 GB             ASUS      163\n",
      "                 DELL      112\n",
      "                 Lenovo    102\n",
      "                 HP        100\n",
      "                 acer       32\n",
      "                 APPLE      23\n",
      "                 MSI        19\n",
      "                 Avita       6\n",
      "2 GB             DELL       26\n",
      "                 Lenovo     15\n",
      "                 ASUS       12\n",
      "                 HP          8\n",
      "                 acer        4\n",
      "                 MSI         2\n",
      "4 GB             ASUS       49\n",
      "                 Lenovo     23\n",
      "                 HP         23\n",
      "                 MSI        16\n",
      "                 DELL        9\n",
      "                 acer        7\n",
      "6 GB             ASUS       17\n",
      "                 MSI         8\n",
      "                 acer        6\n",
      "                 DELL        2\n",
      "                 HP          2\n",
      "                 Lenovo      2\n",
      "8 GB             MSI         5\n",
      "                 HP          3\n",
      "                 ASUS        2\n",
      "                 Lenovo      2\n",
      "                 acer        2\n",
      "Name: count, dtype: int64\n"
     ]
    }
   ],
   "source": [
    "graphic_card_counts= dataset.groupby('graphic_card_gb')['brand'].value_counts()\n",
    "\n",
    "print(graphic_card_counts)"
   ]
  },
  {
   "cell_type": "markdown",
   "metadata": {},
   "source": [
    "Ini merupakan persebaran dari jumlah kapasitas graphic card nya yang didominasi dengan IGPU"
   ]
  },
  {
   "cell_type": "code",
   "execution_count": 58,
   "metadata": {},
   "outputs": [
    {
     "data": {
      "text/plain": [
       "warranty\n",
       "1 year         498\n",
       "No warranty    268\n",
       "2 years         23\n",
       "3 years         13\n",
       "Name: count, dtype: int64"
      ]
     },
     "execution_count": 58,
     "metadata": {},
     "output_type": "execute_result"
    }
   ],
   "source": [
    "dataset['warranty'].value_counts()"
   ]
  },
  {
   "cell_type": "markdown",
   "metadata": {},
   "source": [
    "#mengetahui Warranty (Garansi) dari masing masing produk"
   ]
  },
  {
   "cell_type": "code",
   "execution_count": 59,
   "metadata": {},
   "outputs": [
    {
     "name": "stdout",
     "output_type": "stream",
     "text": [
      "warranty     brand \n",
      "1 year       ASUS      150\n",
      "             HP        110\n",
      "             DELL       96\n",
      "             Lenovo     71\n",
      "             acer       37\n",
      "             APPLE      23\n",
      "             MSI        11\n",
      "2 years      MSI        12\n",
      "             Lenovo     11\n",
      "3 years      Lenovo     11\n",
      "             MSI         1\n",
      "             DELL        1\n",
      "No warranty  ASUS       93\n",
      "             DELL       52\n",
      "             Lenovo     51\n",
      "             MSI        26\n",
      "             HP         26\n",
      "             acer       14\n",
      "             Avita       6\n",
      "Name: count, dtype: int64\n"
     ]
    }
   ],
   "source": [
    "warranty_brand_counts= dataset.groupby('warranty')['brand'].value_counts()\n",
    "\n",
    "print(warranty_brand_counts)"
   ]
  },
  {
   "cell_type": "markdown",
   "metadata": {},
   "source": [
    "dari dataframe diatas dapat diketahui bahwa brand laptop banyak memilih Warranty (garansi) 1 tahun untuk laptop yang dibuatnya"
   ]
  },
  {
   "cell_type": "markdown",
   "metadata": {},
   "source": [
    "# jumlah laptop yang menyediakan Microsoft office didalamnya"
   ]
  },
  {
   "cell_type": "code",
   "execution_count": 60,
   "metadata": {},
   "outputs": [
    {
     "name": "stdout",
     "output_type": "stream",
     "text": [
      "msoffice  brand \n",
      "No        ASUS      187\n",
      "          DELL       86\n",
      "          Lenovo     70\n",
      "          HP         53\n",
      "          MSI        50\n",
      "          acer       47\n",
      "          APPLE      23\n",
      "          Avita       6\n",
      "Yes       HP         83\n",
      "          Lenovo     74\n",
      "          DELL       63\n",
      "          ASUS       56\n",
      "          acer        4\n",
      "Name: count, dtype: int64\n"
     ]
    }
   ],
   "source": [
    "msoffice_brand_counts= dataset.groupby('msoffice')['brand'].value_counts()\n",
    "\n",
    "print(msoffice_brand_counts)"
   ]
  },
  {
   "cell_type": "markdown",
   "metadata": {},
   "source": [
    "dapat diketahui bahwa kebanyakan brand laptop memilih untuk tidak memasukkan memasukkan ms.office kedalam laptop."
   ]
  }
 ],
 "metadata": {
  "kernelspec": {
   "display_name": "Python 3",
   "language": "python",
   "name": "python3"
  },
  "language_info": {
   "codemirror_mode": {
    "name": "ipython",
    "version": 3
   },
   "file_extension": ".py",
   "mimetype": "text/x-python",
   "name": "python",
   "nbconvert_exporter": "python",
   "pygments_lexer": "ipython3",
   "version": "3.11.5"
  }
 },
 "nbformat": 4,
 "nbformat_minor": 2
}
